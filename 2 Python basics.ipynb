{
 "cells": [
  {
   "cell_type": "markdown",
   "metadata": {},
   "source": [
    "# Python operators\n",
    "\n",
    "Python supports the following operators directly:\n",
    "\n",
    "- `+` (addition)\n",
    "- `-` (binary subtraction & unary negation)\n",
    "- `*` (multiplication)\n",
    "- `/` (division)\n",
    "- `//` (floor division, i.e. round towards 0)\n",
    "- `**` (power)\n",
    "\n",
    "Try these operators in the code cell below. Type in an expression involving the above operators, then press <kbd>Ctrl+Enter</kbd> to see the result."
   ]
  },
  {
   "cell_type": "code",
   "execution_count": null,
   "metadata": {},
   "outputs": [],
   "source": [
    "# Lines beginning with # are comments and are not executed.\n",
    "# Type your expression below this line.\n",
    "\n",
    "1 + 2 * (3 - 4) / 5"
   ]
  },
  {
   "cell_type": "markdown",
   "metadata": {},
   "source": [
    "# BODMAS\n",
    "\n",
    "Python follows BODMAS operator precedence.\n",
    "\n",
    "You can also use `(` parentheses `)` to group operations.\n",
    "\n",
    "Try this in the above code cell."
   ]
  },
  {
   "cell_type": "markdown",
   "metadata": {},
   "source": [
    "# Variables\n",
    "\n",
    "In Python, variables can only consist of letters `a-z`, `A-Z`, numbers `0-9`, and underscore `_`, and must start with letters or underscore only.\n",
    "\n",
    "**Valid**\n",
    "\n",
    "- `a`\n",
    "- `a_`\n",
    "- `_A`\n",
    "\n",
    "**Invalid**\n",
    "\n",
    "- `a'`  \n",
    "  (`'` is not a valid symbol in a variable name)\n",
    "- `-a`  \n",
    "  (This is an expression involving unary negation of a, and not a variable name)\n",
    "- `j-prime`  \n",
    "  (This will be evaluated as the expression `j - prime`, where `j` and `prime` are treated as variables.)"
   ]
  },
  {
   "cell_type": "markdown",
   "metadata": {},
   "source": [
    "# Text\n",
    "\n",
    "Python also handles text. In Python, text is represented with the `str` (string) datatype.\n",
    "\n",
    "`str`s are surrounded with single-quotes `'` or double-quotes `\"`. Either may be used, but the beginning and ending symbols must match."
   ]
  },
  {
   "cell_type": "code",
   "execution_count": null,
   "metadata": {},
   "outputs": [],
   "source": [
    "print(\"strs may be double-quoted.\")\n",
    "print('strs may also be single-quoted.')"
   ]
  }
 ],
 "metadata": {
  "kernelspec": {
   "display_name": "Python 3",
   "language": "python",
   "name": "python3"
  },
  "language_info": {
   "codemirror_mode": {
    "name": "ipython",
    "version": 3
   },
   "file_extension": ".py",
   "mimetype": "text/x-python",
   "name": "python",
   "nbconvert_exporter": "python",
   "pygments_lexer": "ipython3",
   "version": "3.6.4"
  }
 },
 "nbformat": 4,
 "nbformat_minor": 2
}
