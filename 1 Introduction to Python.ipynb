{
 "cells": [
  {
   "cell_type": "markdown",
   "metadata": {},
   "source": [
    "# Python\n",
    "\n",
    "Python is a general-purpose programming language for carrying out operations on a computer.\n",
    "\n",
    "Python code is written as text in a file, which usually ends in a `.py` file extension. This file may be written in Notepad or any other text editor. These text files containing Python code are called **script files**.\n",
    "\n",
    "To run a Python script file, a program called the **Python interpreter** is run, and the contents of the script file are passed to it. This is usually carried out for you by another program or by a webapp. The interpreter parses the contents of the file and displays the result."
   ]
  },
  {
   "cell_type": "markdown",
   "metadata": {},
   "source": [
    "# Jupyter notebook & JupyterLab\n",
    "\n",
    "This program you are using is called Jupyter notebook or JupyterLab. You can check which one you are using from the Help menu -> About.\n",
    "\n",
    "Jupyter notebook is a **document format** for displaying code and text in the same document, called a **notebook**. A notebook file has a `.ipynb` file extension, and consists of cells. Text cells (such as this one) contain text. Code cells contain Python code, which can be executed and the results displayed below the code cell.\n",
    "\n",
    "To **edit** a cell, select it (it will display a blue left margin) and press <kbd>Enter</kbd>. When you are done editing, press <kbd>Ctrl+Enter</kbd>.\n",
    "\n",
    "To **run code** in a code cell, use the <kbd>⏯ Run</kbd> button in the menu, or the <kbd>Ctrl+Enter</kbd> keyboard shortcut.\n",
    "\n",
    "To navigate between cells, use the ⬆ and ⬇ arrow keys (exit edit mode first with the <kbd>Enter</kbd> key)."
   ]
  },
  {
   "cell_type": "code",
   "execution_count": null,
   "metadata": {},
   "outputs": [],
   "source": [
    "print(\"Run me! Select this cell and press Ctrl+Enter.\")"
   ]
  }
 ],
 "metadata": {
  "kernelspec": {
   "display_name": "Python 3",
   "language": "python",
   "name": "python3"
  },
  "language_info": {
   "codemirror_mode": {
    "name": "ipython",
    "version": 3
   },
   "file_extension": ".py",
   "mimetype": "text/x-python",
   "name": "python",
   "nbconvert_exporter": "python",
   "pygments_lexer": "ipython3",
   "version": "3.6.4"
  }
 },
 "nbformat": 4,
 "nbformat_minor": 2
}
