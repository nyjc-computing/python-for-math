{
 "cells": [
  {
   "cell_type": "markdown",
   "metadata": {},
   "source": [
    "# Python features for linear algebra\n",
    "\n",
    "While Python has advanced libraries such as `numpy` for linear algebra and matrix manipulation, simple operations can also be implemented with just built-in features."
   ]
  },
  {
   "cell_type": "markdown",
   "metadata": {},
   "source": [
    "## Vectors\n",
    "\n",
    "Python uses `list`s to represent collections of values. This forms a natural way to represent a vector.\n",
    "\n",
    "Lists are represented with `[` square brackets `]`."
   ]
  },
  {
   "cell_type": "code",
   "execution_count": null,
   "metadata": {},
   "outputs": [],
   "source": [
    "v0 = [0, 0, 0]\n",
    "v1 = [0, 1, 2]\n",
    "v2 = [1, 2, 1]\n",
    "v3 = [2, 7, 8]\n",
    "\n",
    "print(v1)\n",
    "print(v1[0])  # Lists are indexed starting from 0"
   ]
  },
  {
   "cell_type": "markdown",
   "metadata": {},
   "source": [
    "We can define functions that operate on lists and/or values:"
   ]
  },
  {
   "cell_type": "code",
   "execution_count": null,
   "metadata": {},
   "outputs": [],
   "source": [
    "def all_zero(V):\n",
    "    # Returns True if all elements of Vector V (list) are 0.\n",
    "    # Otherwise return False.\n",
    "    for elem in V:\n",
    "        if elem != 0:\n",
    "            return False\n",
    "    return True\n",
    "\n",
    "print(all_zero(v0))\n",
    "print(all_zero(v1))"
   ]
  },
  {
   "cell_type": "code",
   "execution_count": null,
   "metadata": {},
   "outputs": [],
   "source": [
    "def elem_mul(V, n):\n",
    "    # Performs element-wise multiplication of vector V by scalar value n.\n",
    "    # Returns the resulting vector V'.\n",
    "    V_ = []  # Empty list\n",
    "    for elem in V:\n",
    "        V_.append(elem * n)\n",
    "    return V_\n",
    "\n",
    "def elem_div(V, n):\n",
    "    # Performs element-wise division of vector V by scalar value n.\n",
    "    # Returns the resulting vector V'.\n",
    "    V_ = []\n",
    "    for elem in V:\n",
    "        V_.append(elem / n)\n",
    "    return V_\n",
    "\n",
    "def row_add(V1, V2):\n",
    "    # Adds two rows together element-wise.\n",
    "    # V1 and V2 are assumed to have same number of elements.\n",
    "    V_ = []\n",
    "    for elem1, elem2 in zip(V1, V2):\n",
    "        V_.append(elem1 + elem2)\n",
    "    return V_\n",
    "\n",
    "print(elem_mul(v1, 4))\n",
    "print(elem_div(v2, 2))\n",
    "print(row_add(v1, v2))"
   ]
  },
  {
   "cell_type": "markdown",
   "metadata": {},
   "source": [
    "## Matrices\n",
    "\n",
    "Python has no built-in type for n-dimensional matrices. Instead, they can be composed from lists.\n",
    "\n",
    "For example, a 2D matrix can be represented as a list of rows, with each row represented by a list."
   ]
  },
  {
   "cell_type": "code",
   "execution_count": null,
   "metadata": {},
   "outputs": [],
   "source": [
    "A = [v1, v2, v3]\n",
    "\n",
    "print(A)\n",
    "print(A[0])  # Each element of the matrix list is a row, also represented by a list\n",
    "print(A[0][2])  # Each value in the matrix is thus referenced by two indexes"
   ]
  },
  {
   "cell_type": "markdown",
   "metadata": {},
   "source": [
    "Functions can also be defined to operate on lists of lists:"
   ]
  },
  {
   "cell_type": "code",
   "execution_count": null,
   "metadata": {},
   "outputs": [],
   "source": [
    "def get_first_nonzero_index(V):\n",
    "    # Returns the index of the first non-zero element in vector V (list).\n",
    "    for i, elem in enumerate(V):\n",
    "        if elem != 0:\n",
    "            return i\n",
    "\n",
    "def is_row_echelon(A):\n",
    "    # Returns True if matrix A is in row echelon form,\n",
    "    # Otherwise returns False\n",
    "    nonzero_column_index = None\n",
    "    for row in A:\n",
    "        if nonzero_column_index is None:\n",
    "            nonzero_column_index = get_first_nonzero_index(row)\n",
    "        else:\n",
    "            this_column_index = get_first_nonzero_index(row)\n",
    "            if this_column_index <= nonzero_column_index:\n",
    "                return False\n",
    "            else:\n",
    "                nonzero_column_index = this_column_index\n",
    "        # continue to next row\n",
    "    return True"
   ]
  },
  {
   "cell_type": "markdown",
   "metadata": {},
   "source": [
    "The above features can be used to perform basic procedures in linear algebra, such as row echelon reduction:"
   ]
  },
  {
   "cell_type": "code",
   "execution_count": null,
   "metadata": {},
   "outputs": [],
   "source": [
    "def find_pivot(A, start_row=0):\n",
    "    # Find the pivot, the first non-zero element in the leftmost column of matrix A.\n",
    "    num_rows = len(A)\n",
    "    num_cols = len(A[0])  # Assume all rows have same number of elements\n",
    "    row = start_row\n",
    "    col = 0\n",
    "    \n",
    "    while col < num_cols:\n",
    "        if A[row][col] == 0:  # Not pivot\n",
    "            # If last row reached, the whole column is 0s\n",
    "            # Check the next column of numbers\n",
    "            if row == num_rows - 1:  # last row\n",
    "                col = col + 1\n",
    "                row = start_row\n",
    "            else:\n",
    "                row = row + 1\n",
    "        else:  # Pivot found\n",
    "            return row, col\n",
    "    # If this point is reached, no pivot was found\n",
    "    raise ValueError(\"Pivot not found.\")\n",
    "    \n",
    "    \n",
    "def pivot(A, start_row=0):\n",
    "    # Perform one iteration of pivoting the matrix A starting from a given row.\n",
    "    # A is a list of rows (list).\n",
    "    # Rows above and columns before p are assumed to be pivoted.\n",
    "    # The matrix A wil be modified!\n",
    "    num_rows = len(A)\n",
    "    \n",
    "    pivot_row, pivot_col = find_pivot(A, start_row)\n",
    "\n",
    "    # Swap pivot row with start row\n",
    "    A[start_row], A[pivot_row] = A[pivot_row], A[start_row]\n",
    "    pivot_row = start_row\n",
    "\n",
    "    # Normalise pivot row so that pivot is 1.\n",
    "    # The pivot is assumed to be non-zero after row swap\n",
    "    A[pivot_row] = elem_div(A[pivot_row], A[pivot_row][pivot_col])\n",
    "    \n",
    "    # Add multiples of the pivot row to each of the lower rows,\n",
    "    # so every element in the pivot column of the lower rows equals 0.\n",
    "    for row in range(pivot_row + 1, num_rows):  # p + 1 to last row\n",
    "        # skip if pivot column value already 0\n",
    "        if A[row][pivot_col] == 0:\n",
    "            continue\n",
    "        # Pivot is 1\n",
    "        # Multiply pivot row by negative of pivot column value, add to row\n",
    "        factor = A[row][pivot_col]\n",
    "        A[row] = row_add(A[row],\n",
    "                         elem_mul(A[pivot_row], -A[row][pivot_col]))"
   ]
  },
  {
   "cell_type": "code",
   "execution_count": null,
   "metadata": {},
   "outputs": [],
   "source": [
    "def row_echelon(A):\n",
    "    # Transform matrix A into row echelon form.\n",
    "    for row in range(len(A)):\n",
    "        if all_zero(A[row]):\n",
    "            continue\n",
    "        pivot(A, row)  # Skip above rows in each iteration"
   ]
  },
  {
   "cell_type": "code",
   "execution_count": null,
   "metadata": {},
   "outputs": [],
   "source": [
    "from copy import deepcopy\n",
    "\n",
    "A_ = deepcopy(A)  # Don't modify the original A; make a copy\n",
    "print(A_)\n",
    "row_echelon(A_)\n",
    "print(A_)"
   ]
  }
 ],
 "metadata": {
  "kernelspec": {
   "display_name": "Python 3",
   "language": "python",
   "name": "python3"
  },
  "language_info": {
   "codemirror_mode": {
    "name": "ipython",
    "version": 3
   },
   "file_extension": ".py",
   "mimetype": "text/x-python",
   "name": "python",
   "nbconvert_exporter": "python",
   "pygments_lexer": "ipython3",
   "version": "3.6.4"
  }
 },
 "nbformat": 4,
 "nbformat_minor": 2
}
