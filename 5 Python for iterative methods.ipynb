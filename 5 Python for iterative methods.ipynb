{
 "cells": [
  {
   "cell_type": "markdown",
   "metadata": {},
   "source": [
    "# Python for iterative methods\n",
    "\n",
    "Python's features naturally lend themselves to iterative methods, such as the Euler method, or Newton-Rhapson."
   ]
  },
  {
   "cell_type": "markdown",
   "metadata": {},
   "source": [
    "## Euler & Improved Euler\n",
    "\n",
    "Besides representing vectors, `list`s can also be used to collect results of calculations for later analysis or display.\n",
    "\n",
    "Python's treatment of functions as objects allows them to be passed as arguments to a function.  \n",
    "In this case, the function `f(x, y)` can be passed to the `euler()` function for iterating approximations at each step.\n",
    "\n",
    "More advanced mathematical functions and constants can be used through the `math` module in Python."
   ]
  },
  {
   "cell_type": "code",
   "execution_count": null,
   "metadata": {},
   "outputs": [],
   "source": [
    "import math\n",
    "\n",
    "e = math.e\n",
    "\n",
    "def euler(f, x0, y0, h, n):\n",
    "    # Approximate the solution of the ODE y'(x) = f(x, y) at n+1 evenly spaced points\n",
    "    # between x0 and x0+n*h, using the Euler method.\n",
    "\n",
    "    # Parameters:\n",
    "    #     f (function): The right-hand side of the ODE y' = f(x, y)\n",
    "    #     x0 (float): The initial value of the independent variable\n",
    "    #     y0 (float): The initial value of the dependent variable\n",
    "    #     h (float): The step size\n",
    "    #     n (int): The number of steps to take\n",
    "\n",
    "    # Returns:\n",
    "    #     x (list): The values of x at each step\n",
    "    #     y (list): The values of y at each step\n",
    "    x = []\n",
    "    y = []\n",
    "    xi = x0\n",
    "    yi = y0\n",
    "    for i in range(0, n + 1):\n",
    "        xi = xi + i * h\n",
    "        yi = yi + h * f(xi, yi)\n",
    "        x.append(xi)\n",
    "        y.append(yi)\n",
    "    return x, y\n",
    "\n",
    "\n",
    "def improved_euler(f, x0, y0, h, n):\n",
    "    # Approximate the solution of the ODE y'(x) = f(x, y) at n+1 evenly spaced points\n",
    "    # between x0 and x0+n*h, using the improved Euler method.\n",
    "\n",
    "    # Parameters:\n",
    "    #     f (function): The right-hand side of the ODE y' = f(x, y)\n",
    "    #     x0 (float): The initial value of the independent variable\n",
    "    #     y0 (float): The initial value of the dependent variable\n",
    "    #     h (float): The step size\n",
    "    #     n (int): The number of steps to take\n",
    "\n",
    "    # Returns:\n",
    "    #     x_values (list): The values of x at each step\n",
    "    #     y_values (list): The values of y at each step\n",
    "    x = []\n",
    "    y = []\n",
    "    xi = x0\n",
    "    yi = y0\n",
    "    for i in range(0, n):\n",
    "        xi = xi + i * h\n",
    "        fi = f(xi, yi)\n",
    "        yi = yi + (h / 2) * (fi + f(xi + i * h, yi + h * fi))\n",
    "        y.append(yi)\n",
    "    return x, y\n",
    "\n",
    "\n",
    "def f(x, y):\n",
    "    # The function to be approximated with Euler method\n",
    "    return (1 - e**(x + y)) / (x * y)\n",
    "\n",
    "\n",
    "x1, y1 = euler(f, 1, 1, 0.5, 1)\n",
    "x2, y2 = improved_euler(f, 1, 1, 0.5, 1)\n",
    "print(y1)\n",
    "print(y2)"
   ]
  },
  {
   "cell_type": "markdown",
   "metadata": {},
   "source": [
    "## Newton-Rhapson\n",
    "\n",
    "Left as an exercise for the reader :)"
   ]
  },
  {
   "cell_type": "code",
   "execution_count": null,
   "metadata": {},
   "outputs": [],
   "source": []
  }
 ],
 "metadata": {
  "kernelspec": {
   "display_name": "Python 3",
   "language": "python",
   "name": "python3"
  },
  "language_info": {
   "codemirror_mode": {
    "name": "ipython",
    "version": 3
   },
   "file_extension": ".py",
   "mimetype": "text/x-python",
   "name": "python",
   "nbconvert_exporter": "python",
   "pygments_lexer": "ipython3",
   "version": "3.6.4"
  }
 },
 "nbformat": 4,
 "nbformat_minor": 2
}
