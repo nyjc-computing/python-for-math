{
 "cells": [
  {
   "cell_type": "markdown",
   "metadata": {},
   "source": [
    "# Python features for math"
   ]
  },
  {
   "cell_type": "markdown",
   "metadata": {},
   "source": [
    "## Functions\n",
    "\n",
    "Python allows defining of functions for abstracting or composing."
   ]
  },
  {
   "cell_type": "code",
   "execution_count": null,
   "metadata": {},
   "outputs": [],
   "source": [
    "def f(x):\n",
    "    # Doubles the value of x\n",
    "    return x * 2\n",
    "\n",
    "def g(x):\n",
    "    # Squares x\n",
    "    return x ** 2\n",
    "\n",
    "print(type(f))\n",
    "\n",
    "x = 4\n",
    "print(f(g(x)))\n",
    "print(g(f(x)))"
   ]
  },
  {
   "cell_type": "markdown",
   "metadata": {},
   "source": [
    "## Conditional processing\n",
    "\n",
    "Python can check for the existence (or non-existence) of a condition, and carry out processing differently depending on the result."
   ]
  },
  {
   "cell_type": "code",
   "execution_count": null,
   "metadata": {},
   "outputs": [],
   "source": [
    "def absolute(x):\n",
    "    # Returns the absolute value of x\n",
    "    if x < 0:\n",
    "        return -x\n",
    "    else:\n",
    "        return x\n",
    "\n",
    "x = -3\n",
    "print(absolute(x))"
   ]
  },
  {
   "cell_type": "markdown",
   "metadata": {},
   "source": [
    "## Iteration\n",
    "\n",
    "Python can execute a procedure with a known number of iterations."
   ]
  },
  {
   "cell_type": "code",
   "execution_count": null,
   "metadata": {},
   "outputs": [],
   "source": [
    "def fibo(n):\n",
    "    \"\"\"Calculates the nth term of the Fibonacci sequence,\n",
    "    using iteration.\n",
    "    \"\"\"\n",
    "    if n < 1:\n",
    "        print(\"n must be a positive integer\")\n",
    "        return None\n",
    "    elif n == 1:\n",
    "        return 0\n",
    "    elif n == 2:\n",
    "        return 1\n",
    "    else:\n",
    "        a = 0\n",
    "        b = 1\n",
    "        # iterates over values of i from 0 to n - 3\n",
    "        # (n - 2 times)\n",
    "        for i in range(0, n - 2):\n",
    "            a, b = b, b + a\n",
    "        return b\n",
    "\n",
    "print(fibo(8))"
   ]
  },
  {
   "cell_type": "markdown",
   "metadata": {},
   "source": [
    "Python can also iterate based on a condition (unknown number of iterations)."
   ]
  },
  {
   "cell_type": "code",
   "execution_count": null,
   "metadata": {},
   "outputs": [],
   "source": [
    "def lcm(a, b):\n",
    "    # Returns the lowest common multiple of positive integers a and b\n",
    "    a0 = a\n",
    "    b0 = b\n",
    "\n",
    "    while a != b:  # stop when a == b\n",
    "        if a < b:\n",
    "            a = a + a0\n",
    "        else:\n",
    "            b = b + b0\n",
    "    return a\n",
    "\n",
    "print(lcm(12, 5))"
   ]
  },
  {
   "cell_type": "code",
   "execution_count": null,
   "metadata": {},
   "outputs": [],
   "source": [
    "def gcf(a, b):\n",
    "    # Returns greatest common factor of positive integers a and b\n",
    "    while a != b:\n",
    "        # difference between a & b must also be divisible by gcf\n",
    "        # Repeat iteration with the two smallest values of [a, b, a - b]\n",
    "        a, b, _ = sorted([a, b, a - b])\n",
    "    return a"
   ]
  },
  {
   "cell_type": "markdown",
   "metadata": {},
   "source": [
    "## Recursion\n",
    "\n",
    "Through the use of functions, Python is capable of recursion."
   ]
  },
  {
   "cell_type": "code",
   "execution_count": null,
   "metadata": {},
   "outputs": [],
   "source": [
    "def fibo(n):\n",
    "    \"\"\"Calculates the nth term of the Fibonacci sequence,\n",
    "    using recursion.\n",
    "    \"\"\"\n",
    "    if n < 1:\n",
    "        print(\"n must be a positive integer\")\n",
    "        return None\n",
    "    elif n == 1:\n",
    "        return 0\n",
    "    elif n == 2:\n",
    "        return 1\n",
    "    else:\n",
    "        return fibo(n - 2) + fibo(n - 1)\n",
    "\n",
    "print(fibo(8))"
   ]
  },
  {
   "cell_type": "markdown",
   "metadata": {},
   "source": [
    "Other recursive functions can also be implemented:\n",
    "\n",
    "- Taylor series\n",
    "- Binomial distributions\n",
    "\n",
    "The formulation of these functions is usually simpler, and may be a useful exercise for students to understand the sequence."
   ]
  }
 ],
 "metadata": {
  "kernelspec": {
   "display_name": "Python 3 (ipykernel)",
   "language": "python",
   "name": "python3"
  },
  "language_info": {
   "codemirror_mode": {
    "name": "ipython",
    "version": 3
   },
   "file_extension": ".py",
   "mimetype": "text/x-python",
   "name": "python",
   "nbconvert_exporter": "python",
   "pygments_lexer": "ipython3",
   "version": "3.7.12"
  }
 },
 "nbformat": 4,
 "nbformat_minor": 4
}
